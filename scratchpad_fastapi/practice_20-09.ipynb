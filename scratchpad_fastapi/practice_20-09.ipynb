{
 "cells": [
  {
   "cell_type": "markdown",
   "id": "e14442dc",
   "metadata": {},
   "source": [
    "# practice-20-09"
   ]
  },
  {
   "cell_type": "code",
   "execution_count": null,
   "id": "f2a0b9bf",
   "metadata": {},
   "outputs": [],
   "source": [
    "from pydantic import BaseModel, Field\n",
    "from typing import Optional, Annotated, Literal\n",
    "from fastapi import FastAPI, Query, Path, HTTPException\n",
    "import json\n",
    "\n",
    "\n",
    "app = FastAPI()\n",
    "class CreatePatient(BaseModel):\n",
    "\n",
    "    patient_id: Annotated[\n",
    "        str, Field(..., description=\"ID of the patient in DB\", example=\"P001\")\n",
    "    ]\n",
    "    name: Annotated[\n",
    "        str, Field(..., description=\"Name of the patient\", example=\"John Doe\")\n",
    "    ]\n",
    "    city: Annotated[\n",
    "        str, Field(..., description=\"City of the patient\", example=\"New York\")\n",
    "    ]\n",
    "    age: Annotated[int, Field(..., description=\"Age of the patient\", example=30)]\n",
    "    gender: Annotated[\n",
    "        str, Field(..., description=\"Gender of the patient\", example=\"Male\")\n",
    "    ]\n",
    "    height: Annotated[\n",
    "        float, Field(..., description=\"Height of the patient\", example=1.75)\n",
    "    ]\n",
    "    weight: Annotated[\n",
    "        float, Field(..., description=\"Weight of the patient\", example=70.5)\n",
    "    ]\n",
    "\n",
    "\n",
    "class PatientUpdate(BaseModel):\n",
    "\n",
    "    name: Annotated[Optional[str], Field(default=None)]\n",
    "    city: Annotated[Optional[str], Field(default=None)]\n",
    "    age: Annotated[Optional[int], Field(default=None, gt=0)]\n",
    "    gender: Annotated[Optional[Literal['male', 'female']], Field(default=None)]\n",
    "    height: Annotated[Optional[float], Field(default=None, gt=0)]\n",
    "    weight: Annotated[Optional[float], Field(default=None, gt=0)]\n",
    "\n",
    "\n",
    "def load_data():\n",
    "    with open(\"patients.json\", \"r\") as f:\n",
    "        data = json.load(f)\n",
    "\n",
    "    return data\n",
    "\n",
    "\n",
    "def save_data(data):\n",
    "    with open(\"patients.json\", \"w\") as f:\n",
    "        json.dump(data, f)\n",
    "\n",
    "@app.put('/edit/{patient_id}')\n",
    "def update_patient(patient_id: str, patient_update: PatientUpdate):\n",
    "    data = load_data()\n",
    "\n",
    "    if patient_id not in data:\n",
    "        raise HTTPException(status_code=404, detail='Patient not found')\n",
    "\n",
    "    existing_patient_info = data[patient_id]\n",
    "\n",
    "    updated_patient_info = patient_update.model_dump(exclude_unset=True)\n",
    "\n",
    "    for key, val in updated_patient_info.items():\n",
    "        existing_patient_info[key] = val\n",
    "\n",
    "    existing_patient_info['patient_id'] = patient_id\n",
    "    patient_pydantic_object = CreatePatient(**existing_patient_info)\n",
    "    existing_patient_info = patient_pydantic_object.model_dump(exclude=\"patient_id\")\n",
    "\n",
    "    data[patient_id] = existing_patient_info\n",
    "\n",
    "    save_data(data)"
   ]
  },
  {
   "cell_type": "code",
   "execution_count": null,
   "id": "2427a01a",
   "metadata": {},
   "outputs": [],
   "source": [
    "from fastapi.responses import JSONResponse\n",
    "\n",
    "@app.delete('/delete/{patient_id}')\n",
    "def delete_patient(patient_id: str):\n",
    "\n",
    "    data = load_data()\n",
    "    if patient_id not in data:\n",
    "        raise HTTPException(status_code=404, detail='patient not found')\n",
    "\n",
    "    del data[patient_id]\n",
    "\n",
    "    save_data(data)\n",
    "\n",
    "    return JSONResponse(\n",
    "        status_code=200, content={\"message\": \"Patient deleted successfully\"}\n",
    "    )"
   ]
  },
  {
   "cell_type": "code",
   "execution_count": null,
   "id": "1f95c80a",
   "metadata": {},
   "outputs": [],
   "source": []
  },
  {
   "cell_type": "code",
   "execution_count": null,
   "id": "6eda4c41",
   "metadata": {},
   "outputs": [],
   "source": []
  },
  {
   "cell_type": "code",
   "execution_count": null,
   "id": "56f4419d",
   "metadata": {},
   "outputs": [],
   "source": []
  },
  {
   "cell_type": "code",
   "execution_count": null,
   "id": "268e8ef4",
   "metadata": {},
   "outputs": [],
   "source": []
  },
  {
   "cell_type": "code",
   "execution_count": null,
   "id": "0e975829",
   "metadata": {},
   "outputs": [],
   "source": []
  },
  {
   "cell_type": "code",
   "execution_count": null,
   "id": "a0cce406",
   "metadata": {},
   "outputs": [],
   "source": []
  }
 ],
 "metadata": {
  "kernelspec": {
   "display_name": ".venv",
   "language": "python",
   "name": "python3"
  },
  "language_info": {
   "name": "python",
   "version": "3.13.3"
  }
 },
 "nbformat": 4,
 "nbformat_minor": 5
}
